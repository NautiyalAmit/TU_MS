{
 "cells": [
  {
   "cell_type": "markdown",
   "metadata": {},
   "source": [
    "## Before submitting\n",
    "1. Before you turn this problem in, make sure everything runs as expected. First, **restart the kernel** (in the menubar, select Kernel$\\rightarrow$Restart) and then **run all cells** (in the menubar, select Cell$\\rightarrow$Run All).\n",
    "\n",
    "2. Make sure that no assertions fail or exceptions occur, otherwise points will be subtracted.\n",
    "\n",
    "3. After you submit the notebook more tests will be run on your code. The fact that no assertions fail on your computer localy does not guarantee that completed the exercise correctly.\n",
    "\n",
    "4. Please submit only the `*.ipynb` file.\n",
    "\n",
    "5. Make sure you fill in any place that says `YOUR CODE HERE` or \"YOUR ANSWER HERE\". Edit only between `YOUR CODE HERE` and `END YOUR CODE`.\n",
    "\n",
    "6. Make sure to use Python 3, not Python 2.\n",
    "\n",
    "Fill your group name and collaborators below:"
   ]
  },
  {
   "cell_type": "code",
   "execution_count": null,
   "metadata": {},
   "outputs": [],
   "source": [
    "GROUPNAME = \"group100\"\n",
    "COLLABORATORS = \"1.Nautiyal, Amit ; 2.Rech, Florian ; 3.Stevens, Kashmir Chantal\""
   ]
  },
  {
   "cell_type": "markdown",
   "metadata": {},
   "source": [
    "---"
   ]
  },
  {
   "cell_type": "markdown",
   "metadata": {},
   "source": [
    "# Exercise Sheet 1: Python Basics\n",
    "\n",
    "This first  exercise sheet tests the basic functionalities of the Python programming language in the context of a simple prediction task. We consider the problem of predicting health risk of subjects from personal data and habits. We first use for this task a decision tree\n",
    "\n",
    "![](tree.png)\n",
    "\n",
    "adapted from the webpage http://www.refactorthis.net/post/2013/04/10/Machine-Learning-tutorial-How-to-create-a-decision-tree-in-RapidMiner-using-the-Titanic-passenger-data-set.aspx. For this exercise sheet, you are required to use only pure Python, and to not import any module, including numpy. In exercise sheet 2, the nearest neighbor part of this exercise sheet will be revisited with numpy."
   ]
  },
  {
   "cell_type": "markdown",
   "metadata": {},
   "source": [
    "## Classifying a single instance (15 P)\n",
    "\n",
    "* In this sheet we will represent patient info as a tuple.\n",
    "* Create a function that takes as input a tuple containing values for attributes (smoker,age,diet), and computes the output of the decision tree. Should return `\"less\"` or `\"more\"`.\n",
    "* Test your function on the tuple `('yes', 31, 'good')`."
   ]
  },
  {
   "cell_type": "code",
   "execution_count": 1,
   "metadata": {
    "deletable": false,
    "nbgrader": {
     "cell_type": "code",
     "checksum": "d8d056d1c918c56bbe8d9d079dc3afb3",
     "grade": false,
     "grade_id": "cell-b66d7278bc313c94",
     "locked": false,
     "schema_version": 3,
     "solution": true
    }
   },
   "outputs": [
    {
     "data": {
      "text/plain": [
       "(('yes', 31, 'good'), 'more')"
      ]
     },
     "execution_count": 1,
     "metadata": {},
     "output_type": "execute_result"
    }
   ],
   "source": [
    "def decision(x):\n",
    "    if (x[0]=='yes'):\n",
    "        if(x[1]<29.5):\n",
    "         return 'less'\n",
    "        else:\n",
    "         return 'more'\n",
    "    else:\n",
    "        if(x[2]=='good'):\n",
    "         return 'less'\n",
    "        else:\n",
    "         return 'more'\n",
    "    \n",
    "    ##dev test 1 \n",
    "    \n",
    "test_input = ('yes', 31, 'good')\n",
    "test = decision(test_input)\n",
    "assert test == 'more'\n",
    "answer = ((test_input, test))\n",
    "answer\n",
    "\n",
    "\n",
    "\n"
   ]
  },
  {
   "cell_type": "code",
   "execution_count": 7,
   "metadata": {
    "deletable": false,
    "editable": false,
    "nbgrader": {
     "cell_type": "code",
     "checksum": "c0559abdef335108b9edbb4ea3011c4c",
     "grade": true,
     "grade_id": "cell-c31b80471db3132f",
     "locked": true,
     "points": 15,
     "schema_version": 3,
     "solution": false
    }
   },
   "outputs": [],
   "source": [
    "# Test\n",
    "x = ('yes', 31, 'good')\n",
    "assert decision(x) == 'more'\n"
   ]
  },
  {
   "cell_type": "code",
   "execution_count": null,
   "metadata": {
    "deletable": false,
    "editable": false,
    "nbgrader": {
     "cell_type": "code",
     "checksum": "4625c2e8a89628e9e90c93121e210005",
     "grade": true,
     "grade_id": "cell-a706e6de3303d3e7",
     "locked": true,
     "points": 0,
     "schema_version": 3,
     "solution": false,
     "task": false
    }
   },
   "outputs": [],
   "source": []
  },
  {
   "cell_type": "markdown",
   "metadata": {},
   "source": [
    "## Reading a dataset from a text file (10 P)\n",
    "\n",
    "The file `health-test.txt` contains several fictious records of personal data and habits.\n",
    "\n",
    "* Read the file automatically using the methods introduced during the lecture.\n",
    "* Represent the dataset as a list of tuples. Make sure that the tuples have the same format as above, e.g. `('yes', 31, 'good')`.\n",
    "* Make sure that you close the file after you have opened it and read its content.\n",
    "\n",
    "**Notes**: \n",
    "* Values read from files are always strings.\n",
    "* Each line contains a newline `\\n` character at the end"
   ]
  },
  {
   "cell_type": "code",
   "execution_count": 2,
   "metadata": {
    "deletable": false,
    "nbgrader": {
     "cell_type": "code",
     "checksum": "d3f4e1bd95acc5f163f909654a3aaf5d",
     "grade": false,
     "grade_id": "cell-c1a8bc4c0e4ccb26",
     "locked": false,
     "schema_version": 3,
     "solution": true
    }
   },
   "outputs": [
    {
     "data": {
      "text/plain": [
       "[('yes', 21, 'poor'),\n",
       " ('no', 50, 'good'),\n",
       " ('no', 23, 'good'),\n",
       " ('yes', 45, 'poor'),\n",
       " ('yes', 51, 'good'),\n",
       " ('no', 60, 'good'),\n",
       " ('no', 15, 'poor'),\n",
       " ('no', 18, 'good')]"
      ]
     },
     "execution_count": 2,
     "metadata": {},
     "output_type": "execute_result"
    }
   ],
   "source": [
    "input_file ='health-test.txt'\n",
    "ht = []\n",
    "with open(input_file,'r') as f:\n",
    "    for l  in f:\n",
    "        formatting = l.strip().split(',')\n",
    "        formatting[1]= int(formatting[1])\n",
    "        ht.append(tuple(formatting))\n",
    "##calling        \n",
    "ht\n",
    "\n",
    "        \n",
    "        \n",
    "   "
   ]
  },
  {
   "cell_type": "code",
   "execution_count": null,
   "metadata": {
    "deletable": false,
    "editable": false,
    "nbgrader": {
     "cell_type": "code",
     "checksum": "423a882d05f6e0bff6fd0a3ecfbbdf8e",
     "grade": true,
     "grade_id": "cell-4e1f7ad1e66b3121",
     "locked": true,
     "points": 5,
     "schema_version": 3,
     "solution": false
    }
   },
   "outputs": [],
   "source": [
    "parsed_line = parse_line_test('yes,23,good\\n')\n",
    "assert isinstance(parsed_line, tuple)\n",
    "assert isinstance(parsed_line[1], int)\n"
   ]
  },
  {
   "cell_type": "code",
   "execution_count": null,
   "metadata": {
    "deletable": false,
    "editable": false,
    "nbgrader": {
     "cell_type": "code",
     "checksum": "138e93c9a0f762ed40e3a8c9c9b4afed",
     "grade": true,
     "grade_id": "cell-0ed341eaf90d76a6",
     "locked": true,
     "points": 0,
     "schema_version": 3,
     "solution": false,
     "task": false
    }
   },
   "outputs": [],
   "source": []
  },
  {
   "cell_type": "code",
   "execution_count": null,
   "metadata": {
    "deletable": false,
    "editable": false,
    "nbgrader": {
     "cell_type": "code",
     "checksum": "82c14a2bf8fabb796dd6ca5ce1783bde",
     "grade": true,
     "grade_id": "cell-ab1b01fcaac26cd5",
     "locked": true,
     "points": 5,
     "schema_version": 3,
     "solution": false,
     "task": false
    }
   },
   "outputs": [],
   "source": [
    "testset = gettest()\n",
    "assert isinstance(testset, list)\n",
    "assert isinstance(testset[0], tuple)"
   ]
  },
  {
   "cell_type": "code",
   "execution_count": null,
   "metadata": {
    "deletable": false,
    "editable": false,
    "nbgrader": {
     "cell_type": "code",
     "checksum": "af085c78fabb2dd2a5554070151fbc23",
     "grade": true,
     "grade_id": "cell-42b0a5cad68fc15a",
     "locked": true,
     "points": 0,
     "schema_version": 3,
     "solution": false,
     "task": false
    }
   },
   "outputs": [],
   "source": []
  },
  {
   "cell_type": "markdown",
   "metadata": {},
   "source": [
    "## Applying the decision tree to the dataset (15 P)\n",
    "\n",
    "* Apply the decision tree to all points in the dataset, and return the ratio of them that are classified as \"more\".\n",
    "* A ratio is a value in [0-1]. So if out of 50 data points 15 return `\"more\"` the value that should be returned is `0.3`"
   ]
  },
  {
   "cell_type": "code",
   "execution_count": 3,
   "metadata": {
    "deletable": false,
    "nbgrader": {
     "cell_type": "code",
     "checksum": "76cfcb71c479f779871513b770a22d87",
     "grade": false,
     "grade_id": "cell-6703ef98e2b5c93b",
     "locked": false,
     "schema_version": 3,
     "solution": true
    }
   },
   "outputs": [
    {
     "name": "stdout",
     "output_type": "stream",
     "text": [
      "the dataset is ['less', 'less', 'less', 'more', 'more', 'less', 'more', 'less']:\n",
      "RATIO: 0.375\n"
     ]
    },
    {
     "data": {
      "text/plain": [
       "0.375"
      ]
     },
     "execution_count": 3,
     "metadata": {},
     "output_type": "execute_result"
    }
   ],
   "source": [
    "decision_tree = []\n",
    "for i in ht:\n",
    "    decision_tree.append(decision(i))\n",
    "\n",
    "find_more = float(decision_tree.count('more')) / len(decision_tree)\n",
    "print(\"the dataset is %s:\"%decision_tree)\n",
    "print(\"RATIO: %s\" % find_more)\n",
    "\n",
    "#call function\n",
    "find_more\n",
    "    "
   ]
  },
  {
   "cell_type": "code",
   "execution_count": null,
   "metadata": {
    "deletable": false,
    "editable": false,
    "nbgrader": {
     "cell_type": "code",
     "checksum": "675f9c7043fb56cf7bab07cc3b308387",
     "grade": true,
     "grade_id": "cell-c13a0b23c9faba52",
     "locked": true,
     "points": 15,
     "schema_version": 3,
     "solution": false
    }
   },
   "outputs": [],
   "source": [
    "ratio = evaluate_testset()\n",
    "assert isinstance(ratio, float)\n",
    "assert 0.0 <= ratio <= 1.0\n"
   ]
  },
  {
   "cell_type": "markdown",
   "metadata": {},
   "source": [
    "## Learning from examples (10 P)\n",
    "\n",
    "Suppose that instead of relying on a fixed decision tree, we would like to use a data-driven approach where data points are classified based on a set of training observations manually labeled by experts. Such labeled dataset is available in the file `health-train.txt`. The first three columns have the same meaning than for `health-test.txt`, and the last column corresponds to the labels.\n",
    "\n",
    "* Write a function that reads this file and converts it into a list of pairs. The first element of each pair is a triplet of attributes, and the second element is the label.\n",
    "\n",
    "**Note**: A triplet is a tuple that contains exactly three values, a pair is a tuple that contains exactly two values"
   ]
  },
  {
   "cell_type": "code",
   "execution_count": 4,
   "metadata": {
    "deletable": false,
    "nbgrader": {
     "cell_type": "code",
     "checksum": "d87d897604de8f7fac0d28ad01a5de44",
     "grade": false,
     "grade_id": "cell-fc38ed11fee6fbeb",
     "locked": false,
     "schema_version": 3,
     "solution": true
    }
   },
   "outputs": [
    {
     "name": "stdout",
     "output_type": "stream",
     "text": [
      "---------------------the tuple is------------------------ \n"
     ]
    },
    {
     "data": {
      "text/plain": [
       "[(('yes', 54, 'good'), 'less'),\n",
       " (('no', 55, 'good'), 'less'),\n",
       " (('no', 26, 'good'), 'less'),\n",
       " (('yes', 40, 'good'), 'more'),\n",
       " (('yes', 25, 'poor'), 'less'),\n",
       " (('no', 13, 'poor'), 'more'),\n",
       " (('no', 15, 'good'), 'less'),\n",
       " (('no', 50, 'poor'), 'more'),\n",
       " (('yes', 33, 'good'), 'more'),\n",
       " (('no', 35, 'good'), 'less'),\n",
       " (('no', 41, 'good'), 'less'),\n",
       " (('yes', 30, 'poor'), 'more'),\n",
       " (('no', 39, 'poor'), 'more'),\n",
       " (('no', 20, 'good'), 'less'),\n",
       " (('yes', 18, 'poor'), 'less'),\n",
       " (('yes', 55, 'good'), 'more')]"
      ]
     },
     "execution_count": 4,
     "metadata": {},
     "output_type": "execute_result"
    }
   ],
   "source": [
    "input_file ='health-train.txt'\n",
    "hlthtrn = []\n",
    "with open(input_file,'r') as fl:\n",
    "   \n",
    "    print('---------------------the tuple is------------------------ ')\n",
    "\n",
    "    for li  in fl:\n",
    "        new_formatting = li.strip().split(',')\n",
    "        new_formatting[1]= int(new_formatting[1])\n",
    "        #formating :the first element of each pair is a triplet of attributes, and the second element is the label\n",
    "        hlthtrn.append((tuple(new_formatting[:3]),new_formatting[-1]))\n",
    "        \n",
    "##calling        \n",
    "hlthtrn\n",
    "\n",
    "  \n",
    "    "
   ]
  },
  {
   "cell_type": "code",
   "execution_count": null,
   "metadata": {
    "deletable": false,
    "editable": false,
    "nbgrader": {
     "cell_type": "code",
     "checksum": "d41088dc402882b69a96f14b81828ce7",
     "grade": true,
     "grade_id": "cell-b97620858b167c0d",
     "locked": true,
     "points": 5,
     "schema_version": 3,
     "solution": false,
     "task": false
    }
   },
   "outputs": [],
   "source": [
    "parsed_line = parse_line_train('yes,67,poor,more\\n')\n",
    "assert isinstance(parsed_line, tuple)\n",
    "assert isinstance(parsed_line[0], tuple)\n",
    "assert isinstance(parsed_line[1], str)\n",
    "assert parsed_line[0][1] == 67\n"
   ]
  },
  {
   "cell_type": "code",
   "execution_count": null,
   "metadata": {
    "deletable": false,
    "editable": false,
    "nbgrader": {
     "cell_type": "code",
     "checksum": "1262795901b1e5803c9bbfc0e95b3e41",
     "grade": true,
     "grade_id": "cell-ced9925599b5dd99",
     "locked": true,
     "points": 0,
     "schema_version": 3,
     "solution": false,
     "task": false
    }
   },
   "outputs": [],
   "source": []
  },
  {
   "cell_type": "code",
   "execution_count": null,
   "metadata": {
    "deletable": false,
    "editable": false,
    "nbgrader": {
     "cell_type": "code",
     "checksum": "f75d4f52c24ad870e9d6d73d6a49e266",
     "grade": true,
     "grade_id": "cell-a3d593f232e0403a",
     "locked": true,
     "points": 5,
     "schema_version": 3,
     "solution": false
    }
   },
   "outputs": [],
   "source": [
    "trainset = gettrain()\n",
    "assert isinstance(trainset, list)\n",
    "assert isinstance(trainset[0], tuple)\n",
    "assert isinstance(trainset[0][0], tuple)\n",
    "assert isinstance(trainset[0][1], str)"
   ]
  },
  {
   "cell_type": "code",
   "execution_count": null,
   "metadata": {
    "deletable": false,
    "editable": false,
    "nbgrader": {
     "cell_type": "code",
     "checksum": "07f67e42e49cfcac57a77f4c1f0f1656",
     "grade": true,
     "grade_id": "cell-7ab8ef2c931d69c1",
     "locked": true,
     "points": 0,
     "schema_version": 3,
     "solution": false,
     "task": false
    }
   },
   "outputs": [],
   "source": []
  },
  {
   "cell_type": "markdown",
   "metadata": {},
   "source": [
    "## Nearest neighbor classifier (25 P)\n",
    "\n",
    "We consider the nearest neighbor algorithm that classifies test points following the label of the nearest neighbor in the training data. For this, we need to define a distance function between data points. We define it to be\n",
    "\n",
    "`distance(a, b) = (a[0] != b[0]) + ((a[1] - b[1]) / 50.0) ** 2 + (a[2] != b[2])`\n",
    "\n",
    "where `a` and `b` are two tuples corrsponding to the attributes of two data points.\n",
    "\n",
    "* Write a function that retrieves for a test point the nearest neighbor in the training set, and classifies the test point accordingly (i.e. returns the label of the nearest data point).\n",
    "* Test your function on the tuple `('yes', 31, 'good')`\n",
    "\n",
    "**Note**: You can use the special `infinity` floating point value with `float('inf')`"
   ]
  },
  {
   "cell_type": "code",
   "execution_count": 5,
   "metadata": {
    "deletable": false,
    "nbgrader": {
     "cell_type": "code",
     "checksum": "22fe5e1d0acaa4ff696a21e72347bad2",
     "grade": false,
     "grade_id": "cell-671ea24ec8a11241",
     "locked": false,
     "schema_version": 3,
     "solution": true
    }
   },
   "outputs": [],
   "source": [
    "def distance(a,b):\n",
    "     return (a[0] != b[0]) + (a[0]!=b[0]) + ((float(a[1])-float(b[1]))/50)**2 + (a[2]!=b[2])\n",
    "\n",
    "def neighbor(x, training_set):\n",
    "    ##claculation in traing set \n",
    "    dist = [distance(x, y[0]) for y in training_set]\n",
    "    #return it \n",
    "    return training_set[dist.index(min(dist))]\n",
    "\n",
    "\n",
    "    "
   ]
  },
  {
   "cell_type": "code",
   "execution_count": 7,
   "metadata": {
    "deletable": false,
    "editable": false,
    "nbgrader": {
     "cell_type": "code",
     "checksum": "35bd7d7ec78b2096b52d1cf27c677f96",
     "grade": true,
     "grade_id": "cell-5929fce6ffc8ca0f",
     "locked": true,
     "points": 5,
     "schema_version": 3,
     "solution": false,
     "task": false
    }
   },
   "outputs": [],
   "source": [
    "# Test distance\n",
    "import math\n",
    "assert math.isclose(distance(('yes', 34, 'poor'), ('yes', 51, 'good')), 1.1156)\n"
   ]
  },
  {
   "cell_type": "code",
   "execution_count": null,
   "metadata": {
    "deletable": false,
    "editable": false,
    "nbgrader": {
     "cell_type": "code",
     "checksum": "f44bbadca40847e414910eef543b6d9a",
     "grade": true,
     "grade_id": "cell-8dc0c32bc78d1e62",
     "locked": true,
     "points": 0,
     "schema_version": 3,
     "solution": false,
     "task": false
    }
   },
   "outputs": [],
   "source": []
  },
  {
   "cell_type": "code",
   "execution_count": 9,
   "metadata": {
    "deletable": false,
    "editable": false,
    "nbgrader": {
     "cell_type": "code",
     "checksum": "bd4c215a732dd959fdb2b8db6078b7bc",
     "grade": true,
     "grade_id": "cell-a36122337853f195",
     "locked": true,
     "points": 10,
     "schema_version": 3,
     "solution": false
    }
   },
   "outputs": [
    {
     "ename": "NameError",
     "evalue": "name 'gettrain' is not defined",
     "output_type": "error",
     "traceback": [
      "\u001b[1;31m---------------------------------------------------------------------------\u001b[0m",
      "\u001b[1;31mNameError\u001b[0m                                 Traceback (most recent call last)",
      "\u001b[1;32m<ipython-input-9-3f38acbf2846>\u001b[0m in \u001b[0;36m<module>\u001b[1;34m\u001b[0m\n\u001b[0;32m      1\u001b[0m \u001b[1;31m# Test neighbor\u001b[0m\u001b[1;33m\u001b[0m\u001b[1;33m\u001b[0m\u001b[1;33m\u001b[0m\u001b[0m\n\u001b[0;32m      2\u001b[0m \u001b[0mx\u001b[0m \u001b[1;33m=\u001b[0m \u001b[1;33m(\u001b[0m\u001b[1;34m'yes'\u001b[0m\u001b[1;33m,\u001b[0m \u001b[1;36m31\u001b[0m\u001b[1;33m,\u001b[0m \u001b[1;34m'good'\u001b[0m\u001b[1;33m)\u001b[0m\u001b[1;33m\u001b[0m\u001b[1;33m\u001b[0m\u001b[0m\n\u001b[1;32m----> 3\u001b[1;33m \u001b[1;32massert\u001b[0m \u001b[0mneighbor\u001b[0m\u001b[1;33m(\u001b[0m\u001b[0mx\u001b[0m\u001b[1;33m,\u001b[0m \u001b[0mgettrain\u001b[0m\u001b[1;33m(\u001b[0m\u001b[1;33m)\u001b[0m\u001b[1;33m)\u001b[0m \u001b[1;33m==\u001b[0m \u001b[1;34m'more'\u001b[0m\u001b[1;33m\u001b[0m\u001b[1;33m\u001b[0m\u001b[0m\n\u001b[0m",
      "\u001b[1;31mNameError\u001b[0m: name 'gettrain' is not defined"
     ]
    }
   ],
   "source": [
    "# Test neighbor\n",
    "x = ('yes', 31, 'good')\n",
    "assert neighbor(x, gettrain()) == 'more'\n"
   ]
  },
  {
   "cell_type": "code",
   "execution_count": null,
   "metadata": {
    "deletable": false,
    "editable": false,
    "nbgrader": {
     "cell_type": "code",
     "checksum": "be1fe8634e017c120059b06bd2447675",
     "grade": true,
     "grade_id": "cell-cbf6ddfbfaab7875",
     "locked": true,
     "points": 0,
     "schema_version": 3,
     "solution": false,
     "task": false
    }
   },
   "outputs": [],
   "source": []
  },
  {
   "cell_type": "markdown",
   "metadata": {},
   "source": [
    "* Apply both the decision tree and nearest neighbor classifiers on the test set, and return the list of data point(s) for which the two classifiers disagree, and with which probability it happens.\n",
    "* A data point should look like above, e.g. `('yes', 31, 'good')`."
   ]
  },
  {
   "cell_type": "code",
   "execution_count": 6,
   "metadata": {
    "deletable": false,
    "nbgrader": {
     "cell_type": "code",
     "checksum": "c1e6721af75ba2abcc8a6d4a5a283494",
     "grade": false,
     "grade_id": "cell-8dbf7da153f3d797",
     "locked": false,
     "schema_version": 3,
     "solution": true
    }
   },
   "outputs": [
    {
     "name": "stdout",
     "output_type": "stream",
     "text": [
      " Decision Tree Prediction:\n",
      "['less', 'less', 'less', 'more', 'more', 'less', 'more', 'less']\n",
      " Nearest Neighbor Algorithm Predictions :\n",
      "['less', 'less', 'less', 'more', 'less', 'less', 'more', 'less']\n",
      "Index: [4]\n",
      "Datapoint: [('yes', 51, 'good')]\n",
      "Probability: 0.125\n",
      "\n"
     ]
    },
    {
     "data": {
      "text/plain": [
       "([('yes', 51, 'good')], 0.125)"
      ]
     },
     "execution_count": 6,
     "metadata": {},
     "output_type": "execute_result"
    }
   ],
   "source": [
    "health_nearest = []\n",
    "\n",
    "index = []\n",
    "diff = []\n",
    "\n",
    "for i in ht:\n",
    "    formatting = neighbor(i, hlthtrn)\n",
    "    health_nearest.append(formatting[1])\n",
    "\n",
    "print(\" Decision Tree Prediction:\\n%s\" % decision_tree)\n",
    "\n",
    "print(\" Nearest Neighbor Algorithm Predictions :\\n%s\" % health_nearest)\n",
    "\n",
    "\n",
    "for indices in range(len(decision_tree)):\n",
    "    if decision_tree[indices] != health_nearest[indices]:\n",
    "        index.append(indices)\n",
    "        diff.append(ht[indices])\n",
    "\n",
    "ProbablityOfDiff = float(len(diff)) / len(decision_tree)\n",
    "\n",
    "print(\"Index: %s\\nDatapoint: %s\" % (index, diff))\n",
    "print(\"Probability: %s\" % ProbablityOfDiff)\n",
    "print()\n",
    "\n",
    "\n",
    "((diff, ProbablityOfDiff))"
   ]
  },
  {
   "cell_type": "code",
   "execution_count": null,
   "metadata": {
    "deletable": false,
    "editable": false,
    "nbgrader": {
     "cell_type": "code",
     "checksum": "7d32b236740c82f1856e8fbc075754ae",
     "grade": true,
     "grade_id": "cell-3b55f7e89ad4dfeb",
     "locked": true,
     "points": 10,
     "schema_version": 3,
     "solution": false
    }
   },
   "outputs": [],
   "source": [
    "Xdisagree, probability = compare_classifiers()\n",
    "assert isinstance(Xdisagree, list)\n",
    "assert 0.0 <= probability <= 1.0"
   ]
  },
  {
   "cell_type": "markdown",
   "metadata": {},
   "source": [
    "One problem of simple nearest neighbors is that one needs to compare the point to predict to all data points in the training set. This can be slow for datasets of thousands of points or more. Alternatively, some classifiers train a model first, and then use it to classify the data.\n",
    "\n",
    "## Nearest mean classifier (25 P)\n",
    "\n",
    "We consider one such trainable model, which operates in two steps:\n",
    "\n",
    "(1) Compute the average point for each class, (2) classify new points to be of the class whose average point is nearest to the point to predict.\n",
    "\n",
    "For this classifier, we convert the attributes smoker and diet to real values (for smoker: yes=1.0 and no=0.0, and for diet: good=0.0 and poor=1.0), and use the modified distance function:\n",
    "\n",
    "`distance(a,b) = (a[0] - b[0]) ** 2 + ((a[1] - b[1]) / 50.0) ** 2 + (a[2] - b[2]) ** 2`\n",
    "\n",
    "Age will also from now on be represented as a `float`. The new data points will be referred to as numerical patient tuples. \n",
    "\n",
    "We adopt an object-oriented approach for building this classifier.\n",
    "\n",
    "* Implement the methods `train` and `predict` of the class `NearestMeanClassifier`."
   ]
  },
  {
   "cell_type": "code",
   "execution_count": 7,
   "metadata": {
    "deletable": false,
    "nbgrader": {
     "cell_type": "code",
     "checksum": "743f8e9b2b2be4477670601728377f92",
     "grade": false,
     "grade_id": "cell-e0b339bfd0fcc16c",
     "locked": false,
     "schema_version": 3,
     "solution": true
    }
   },
   "outputs": [],
   "source": [
    "class NearestMeanClassifier(object):\n",
    "   \n",
    "    def train(self, dataset):\n",
    "        \n",
    "        self.classes = []\n",
    "        data = []\n",
    "        self.avg = []\n",
    "        \n",
    "        for l in dataset:\n",
    "            if l[1] not in self.classes:\n",
    "                self.classes.append(l[1])\n",
    "\n",
    "            X, y = l\n",
    "            smoker, age, diet = X\n",
    "            tuple1 = ((int(smoker == 'yes'),\n",
    "                              int(age),\n",
    "                              int(diet == 'poor')), y)\n",
    "            data.append(tuple1)\n",
    "\n",
    "        \n",
    "\n",
    "        for classes in self.classes:\n",
    "            \n",
    "            listOfsmoker = [tuples[0][0] for tuples in data if tuples[1] == classes]\n",
    "            age = [tuples[0][1] for tuples in data if tuples[1] == classes]\n",
    "            diet = [tuples[0][2] for tuples in data if tuples[1] == classes]\n",
    "            dict_content = [tuples for tuples in data if tuples[1] == classes]\n",
    "\n",
    "            meanOfAbove = ((float(sum(listOfsmoker)) / len(listOfsmoker),\n",
    "                           float(sum(age)) / len(age),\n",
    "                           float(sum(diet)) / len(diet)), classes)\n",
    "            self.avg.append(meanOfAbove)\n",
    "\n",
    "    def predict(self, dataset):\n",
    "        \n",
    "        ##as defined earlier\n",
    "        def distance(a, b):\n",
    "            return (a[0] - b[0])**2 + ((a[1] - b[1])/50)**2 + (a[2] - b[2])**2\n",
    "\n",
    "        def neighbor(x, training_set):\n",
    "            distbtw = [distance(x, y[0]) for y in training_set]\n",
    "            return training_set[distbtw.index(min(distbtw))][1]\n",
    "\n",
    "\n",
    "        self.predict = []\n",
    "        for l2 in dataset:\n",
    "            smoker, age, diet = l2\n",
    "            tuple_line = (int(smoker == 'yes'),\n",
    "                            int(age),\n",
    "                            int(diet == 'poor'))\n",
    "\n",
    "            prcdt = neighbor(tuple_line, self.avg)\n",
    "            self.predict.append(prcdt)\n"
   ]
  },
  {
   "cell_type": "markdown",
   "metadata": {},
   "source": [
    "* Implement a function that will load the training dataset from the `health-train.txt` file and parse each line to a numerical patient tuple. You can still follow the same structure that we used before (i.e. using a `parse_line` function), however, it is not required for this exercise. \n",
    "* Build an object of class `NearestMeanClassifier`, train it on the training data, and return the mean class numerical tuple for each class."
   ]
  },
  {
   "cell_type": "code",
   "execution_count": 8,
   "metadata": {
    "deletable": false,
    "nbgrader": {
     "cell_type": "code",
     "checksum": "e25625bb485ca4f0effd836c7111eeb4",
     "grade": false,
     "grade_id": "cell-5f7f00ee83c94703",
     "locked": false,
     "schema_version": 3,
     "solution": true
    }
   },
   "outputs": [
    {
     "data": {
      "text/plain": [
       "[((0.3333333333333333, 32.111111111111114, 0.2222222222222222), 'less'),\n",
       " ((0.5714285714285714, 37.142857142857146, 0.5714285714285714), 'more')]"
      ]
     },
     "execution_count": 8,
     "metadata": {},
     "output_type": "execute_result"
    }
   ],
   "source": [
    "mean_class = NearestMeanClassifier()\n",
    "\n",
    "##load the training dataset from the health-train.txt\n",
    "mean_class.train(hlthtrn)\n",
    "mean_class.predict(ht)\n",
    "\n",
    "mean_class.avg"
   ]
  },
  {
   "cell_type": "code",
   "execution_count": 135,
   "metadata": {
    "deletable": false,
    "editable": false,
    "nbgrader": {
     "cell_type": "code",
     "checksum": "b29c13813629761ec58be58fd1638001",
     "grade": true,
     "grade_id": "cell-0a0dea69eca74de7",
     "locked": true,
     "points": 5,
     "schema_version": 3,
     "solution": false,
     "task": false
    }
   },
   "outputs": [
    {
     "ename": "NameError",
     "evalue": "name 'gettrain_num' is not defined",
     "output_type": "error",
     "traceback": [
      "\u001b[1;31m---------------------------------------------------------------------------\u001b[0m",
      "\u001b[1;31mNameError\u001b[0m                                 Traceback (most recent call last)",
      "\u001b[1;32m<ipython-input-135-6c8d875bb73a>\u001b[0m in \u001b[0;36m<module>\u001b[1;34m\u001b[0m\n\u001b[1;32m----> 1\u001b[1;33m \u001b[0mtrainset_num\u001b[0m \u001b[1;33m=\u001b[0m \u001b[0mgettrain_num\u001b[0m\u001b[1;33m(\u001b[0m\u001b[1;33m)\u001b[0m\u001b[1;33m\u001b[0m\u001b[1;33m\u001b[0m\u001b[0m\n\u001b[0m\u001b[0;32m      2\u001b[0m \u001b[1;32massert\u001b[0m \u001b[0misinstance\u001b[0m\u001b[1;33m(\u001b[0m\u001b[0mtrainset_num\u001b[0m\u001b[1;33m,\u001b[0m \u001b[0mlist\u001b[0m\u001b[1;33m)\u001b[0m\u001b[1;33m\u001b[0m\u001b[1;33m\u001b[0m\u001b[0m\n\u001b[0;32m      3\u001b[0m \u001b[1;32massert\u001b[0m \u001b[0misinstance\u001b[0m\u001b[1;33m(\u001b[0m\u001b[0mtrainset_num\u001b[0m\u001b[1;33m[\u001b[0m\u001b[1;36m0\u001b[0m\u001b[1;33m]\u001b[0m\u001b[1;33m[\u001b[0m\u001b[1;36m0\u001b[0m\u001b[1;33m]\u001b[0m\u001b[1;33m[\u001b[0m\u001b[1;36m0\u001b[0m\u001b[1;33m]\u001b[0m\u001b[1;33m,\u001b[0m \u001b[0mfloat\u001b[0m\u001b[1;33m)\u001b[0m\u001b[1;33m\u001b[0m\u001b[1;33m\u001b[0m\u001b[0m\n",
      "\u001b[1;31mNameError\u001b[0m: name 'gettrain_num' is not defined"
     ]
    }
   ],
   "source": [
    "trainset_num = gettrain_num()\n",
    "assert isinstance(trainset_num, list)\n",
    "assert isinstance(trainset_num[0][0][0], float)\n"
   ]
  },
  {
   "cell_type": "code",
   "execution_count": null,
   "metadata": {
    "deletable": false,
    "editable": false,
    "nbgrader": {
     "cell_type": "code",
     "checksum": "1dcdf2210066d4835847e0d184a619f4",
     "grade": true,
     "grade_id": "cell-789233fd9f800e77",
     "locked": true,
     "points": 0,
     "schema_version": 3,
     "solution": false,
     "task": false
    }
   },
   "outputs": [],
   "source": []
  },
  {
   "cell_type": "code",
   "execution_count": 136,
   "metadata": {
    "deletable": false,
    "editable": false,
    "nbgrader": {
     "cell_type": "code",
     "checksum": "b89a18322c8d3ea2111b91abac5cbd1e",
     "grade": true,
     "grade_id": "cell-415891bde4cbde19",
     "locked": true,
     "points": 2,
     "schema_version": 3,
     "solution": false
    }
   },
   "outputs": [
    {
     "ename": "NameError",
     "evalue": "name 'build_and_train' is not defined",
     "output_type": "error",
     "traceback": [
      "\u001b[1;31m---------------------------------------------------------------------------\u001b[0m",
      "\u001b[1;31mNameError\u001b[0m                                 Traceback (most recent call last)",
      "\u001b[1;32m<ipython-input-136-70ccf2a0e2d7>\u001b[0m in \u001b[0;36m<module>\u001b[1;34m\u001b[0m\n\u001b[1;32m----> 1\u001b[1;33m \u001b[0mtrain_dict\u001b[0m \u001b[1;33m=\u001b[0m \u001b[0mbuild_and_train\u001b[0m\u001b[1;33m(\u001b[0m\u001b[1;33m)\u001b[0m\u001b[1;33m\u001b[0m\u001b[1;33m\u001b[0m\u001b[0m\n\u001b[0m\u001b[0;32m      2\u001b[0m \u001b[1;32massert\u001b[0m \u001b[0misinstance\u001b[0m\u001b[1;33m(\u001b[0m\u001b[0mtrain_dict\u001b[0m\u001b[1;33m[\u001b[0m\u001b[1;34m'less'\u001b[0m\u001b[1;33m]\u001b[0m\u001b[1;33m,\u001b[0m \u001b[0mtuple\u001b[0m\u001b[1;33m)\u001b[0m\u001b[1;33m\u001b[0m\u001b[1;33m\u001b[0m\u001b[0m\n\u001b[0;32m      3\u001b[0m \u001b[1;32massert\u001b[0m \u001b[0misinstance\u001b[0m\u001b[1;33m(\u001b[0m\u001b[0mtrain_dict\u001b[0m\u001b[1;33m[\u001b[0m\u001b[1;34m'more'\u001b[0m\u001b[1;33m]\u001b[0m\u001b[1;33m,\u001b[0m \u001b[0mtuple\u001b[0m\u001b[1;33m)\u001b[0m\u001b[1;33m\u001b[0m\u001b[1;33m\u001b[0m\u001b[0m\n",
      "\u001b[1;31mNameError\u001b[0m: name 'build_and_train' is not defined"
     ]
    }
   ],
   "source": [
    "train_dict = build_and_train()\n",
    "assert isinstance(train_dict['less'], tuple)\n",
    "assert isinstance(train_dict['more'], tuple)"
   ]
  },
  {
   "cell_type": "code",
   "execution_count": null,
   "metadata": {
    "deletable": false,
    "editable": false,
    "nbgrader": {
     "cell_type": "code",
     "checksum": "b96825e7f12e58e0ea0124cc4317cec0",
     "grade": true,
     "grade_id": "cell-ca2d0921e96ede25",
     "locked": true,
     "points": 8,
     "schema_version": 3,
     "solution": false,
     "task": false
    }
   },
   "outputs": [],
   "source": []
  },
  {
   "cell_type": "markdown",
   "metadata": {},
   "source": [
    "* Load the test dataset into memory as a list of numerical patient tuples\n",
    "* Predict the test data using the nearest mean classifier and print all test examples for which all three classifiers (decision tree, nearest neighbor and nearest mean) agree.\n",
    "\n",
    "**Note**: Be careful that the `NearestMeanClassifier` expects the dataset in a different form, compared to the other two methods."
   ]
  },
  {
   "cell_type": "code",
   "execution_count": 13,
   "metadata": {
    "deletable": false,
    "nbgrader": {
     "cell_type": "code",
     "checksum": "bf27009a1158ab26df2c31e2c831f00a",
     "grade": false,
     "grade_id": "cell-f37f3035a32a8f85",
     "locked": false,
     "schema_version": 3,
     "solution": true
    }
   },
   "outputs": [
    {
     "name": "stdout",
     "output_type": "stream",
     "text": [
      "the similar  Predictions are :\n"
     ]
    },
    {
     "data": {
      "text/plain": [
       "[('yes', 21, 'poor'),\n",
       " ('no', 50, 'good'),\n",
       " ('no', 23, 'good'),\n",
       " ('yes', 45, 'poor'),\n",
       " ('no', 60, 'good'),\n",
       " ('no', 15, 'poor'),\n",
       " ('no', 18, 'good')]"
      ]
     },
     "execution_count": 13,
     "metadata": {},
     "output_type": "execute_result"
    }
   ],
   "source": [
    "compare = []\n",
    "for i in range(len(ht)):\n",
    "    \n",
    "    if decision_tree[i] == health_nearest[i]:\n",
    "        compare.append(ht[i])\n",
    "    \n",
    "print(\"the similar  Predictions are :\")\n",
    "compare"
   ]
  },
  {
   "cell_type": "code",
   "execution_count": null,
   "metadata": {
    "deletable": false,
    "editable": false,
    "nbgrader": {
     "cell_type": "code",
     "checksum": "849e3974a6a9aa4e8c32ac8170c12cf6",
     "grade": true,
     "grade_id": "cell-f3656461c994dc3d",
     "locked": true,
     "points": 2,
     "schema_version": 3,
     "solution": false,
     "task": false
    }
   },
   "outputs": [],
   "source": [
    "testset_num = gettest_num()\n",
    "assert isinstance(testset_num, list)\n",
    "assert isinstance(testset_num[0], tuple)"
   ]
  },
  {
   "cell_type": "code",
   "execution_count": null,
   "metadata": {
    "deletable": false,
    "editable": false,
    "nbgrader": {
     "cell_type": "code",
     "checksum": "0a7cdaf7eca79154e00ffe79ad824501",
     "grade": true,
     "grade_id": "cell-853c957eaaf81c28",
     "locked": true,
     "points": 8,
     "schema_version": 3,
     "solution": false
    }
   },
   "outputs": [],
   "source": [
    "same_predictions = predict_test()\n",
    "assert isinstance(same_predictions[0], tuple)\n",
    "assert isinstance(same_predictions[0][0], tuple)\n",
    "assert isinstance(same_predictions[0][1], str)"
   ]
  }
 ],
 "metadata": {
  "kernelspec": {
   "display_name": "Python 3",
   "language": "python",
   "name": "python3"
  },
  "language_info": {
   "codemirror_mode": {
    "name": "ipython",
    "version": 3
   },
   "file_extension": ".py",
   "mimetype": "text/x-python",
   "name": "python",
   "nbconvert_exporter": "python",
   "pygments_lexer": "ipython3",
   "version": "3.7.3"
  }
 },
 "nbformat": 4,
 "nbformat_minor": 1
}
